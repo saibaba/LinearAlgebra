{
  "nbformat": 4,
  "nbformat_minor": 0,
  "metadata": {
    "kernelspec": {
      "display_name": "Python 3",
      "language": "python",
      "name": "python3"
    },
    "language_info": {
      "codemirror_mode": {
        "name": "ipython",
        "version": 3
      },
      "file_extension": ".py",
      "mimetype": "text/x-python",
      "name": "python",
      "nbconvert_exporter": "python",
      "pygments_lexer": "ipython3",
      "version": "3.7.5"
    },
    "colab": {
      "name": "EigenAnalysisFibonacci.ipynb",
      "provenance": [],
      "include_colab_link": true
    }
  },
  "cells": [
    {
      "cell_type": "markdown",
      "metadata": {
        "id": "view-in-github",
        "colab_type": "text"
      },
      "source": [
        "<a href=\"https://colab.research.google.com/github/saibaba/LinearAlgebra/blob/master/EigenAnalysisFibonacci.ipynb\" target=\"_parent\"><img src=\"https://colab.research.google.com/assets/colab-badge.svg\" alt=\"Open In Colab\"/></a>"
      ]
    },
    {
      "cell_type": "markdown",
      "metadata": {
        "id": "7bKPJ-h283M9",
        "colab_type": "text"
      },
      "source": [
        "Analyze fibonacci numbers via Eigenvectors\n",
        "--------\n",
        "\n",
        "Indirectly you also learn about diagonalization, spectral decomosition, low rank approximation, dyads!\n"
      ]
    },
    {
      "cell_type": "markdown",
      "metadata": {
        "id": "PgyYuj9583M-",
        "colab_type": "text"
      },
      "source": [
        "Fibonacci numbers follow this rule:\n",
        "\n",
        "$F_0 = 0$\n",
        "\n",
        "$F_1 = 1$\n",
        "\n",
        "$F_{n+1} = F_{n} + F_{n-1}$\n",
        "\n",
        "Can we write this in matrix form?\n",
        "\n",
        "$\\begin{bmatrix} F_{n+1} \\\\\\ F_{n} \\end{bmatrix} = \\begin{bmatrix} 1 & 1 \\\\\\ 1 & 0 \\end{bmatrix} * \\begin{bmatrix} F_{n} \\\\\\ F_{n-1} \\end{bmatrix}$\n",
        "\n",
        "Let $A =  \\begin{bmatrix} 1 & 1 \\\\\\ 1 & 0 \\end{bmatrix}$.\n",
        "\n",
        "By induction,\n",
        "\n",
        "$\\begin{bmatrix} F_{n+1} \\\\\\ F_{n} \\end{bmatrix} = {\\begin{bmatrix} 1 & 1 \\\\\\ 1 & 0 \\end{bmatrix}}^2 * \\begin{bmatrix} F_{n-1} \\\\\\ F_{n-2} \\end{bmatrix} = {\\begin{bmatrix} 1 & 1 \\\\\\ 1 & 0 \\end{bmatrix}}^n * \\begin{bmatrix} F_1 \\\\\\ F_0 \\end{bmatrix}$\n",
        "\n",
        "Is there an easier way to take powers of A?\n",
        "\n",
        "Given that it is square matrix, if we can convert into a diagonal matrix, taking power is easy as we just need to take powers of diagonal elements.\n",
        "\n",
        "Let,\n",
        "\n",
        "$A = Q D Q^{-1}$\n",
        "\n",
        "Then,\n",
        "\n",
        "$A Q = Q D$\n",
        "\n",
        "Let $v_1$ and $v_2$ be two column vectors of $Q$ i.e., $Q = \\begin{bmatrix} v_1 & v_2 \\end{bmatrix}$.\n",
        "\n",
        "Let $\\lambda_1$ and $\\lambda_2$ be the diagonal elements of $D$ i.e., $D = \\begin{bmatrix} \\lambda_1 & 0 \\\\\\ 0 & \\lambda_2 \\end{bmatrix}$.\n",
        "\n",
        "$A \\begin{bmatrix} v_1 & v_2 \\end{bmatrix} = \\begin{bmatrix} v_1 & v_2 \\end{bmatrix}  \\begin{bmatrix} \\lambda_1 & 0 \\\\\\ 0 & \\lambda_2 \\end{bmatrix}$.\n",
        "\n",
        "Hence,\n",
        "\n",
        "$\\begin{bmatrix} Av_1 & Av_2 \\end{bmatrix} = \\begin{bmatrix} \\lambda_1 v_1 & \\lambda_2 v_2 \\end{bmatrix}$.\n",
        "\n",
        "So, we want $v_1$ and $v_2$ be eigenvectors of A with diagonal elements as corresponding eigenvalues.\n",
        "\n",
        "Also notice that A happens to be symmetric. Hence $A = A^T$.(understand what this means for the 4 spaces of A and $A^T$).\n",
        "\n",
        "Then for any two vectors $x$ and $y$:\n",
        "\n",
        "$A = A^T$\n",
        "\n",
        "=> $Ax.y = y^T (Ax) = y^T (A^Tx) = (Ay)^T x = x.Ay$ \n",
        "\n",
        "If we take x = $v_1$ and y = $v_2$,\n",
        "\n",
        "$\\lambda_1 v_1.v_2 = \\lambda_2 v_1.v_2$\n",
        "\n",
        "If A is invertible (full rank), $\\lambda_1 \\ne \\lambda_2$, hence $v_1$ must be perpendicular to $v_2$.\n",
        "\n",
        "Let's solve for $v_1$, $v_2$, $\\lambda_1$, and $\\lambda_2$.\n",
        "\n",
        "For any eigenvector $\\begin{bmatrix} p \\\\\\ q \\end{bmatrix}$,\n",
        "\n",
        "$\\begin{bmatrix} 1 & 1 \\\\\\ 1 & 0 \\end{bmatrix} \\begin{bmatrix} p \\\\\\ q \\end{bmatrix} = \\lambda \\begin{bmatrix} p \\\\\\ q \\end{bmatrix}$.\n",
        "\n",
        "$p+q=\\lambda p$ and $p = \\lambda q$.\n",
        "\n",
        "or\n",
        "\n",
        "$\\lambda q+q=\\lambda^2 q$.\n",
        "\n",
        "or\n",
        "\n",
        "$\\lambda + 1=\\lambda^2$.\n",
        "\n",
        "$\\lambda^2 - \\lambda - 1 = 0$.\n",
        "\n",
        "$\\lambda = \\frac{1 \\pm \\sqrt(1 + 4)}{2} = \\frac{1 \\pm \\sqrt(5)}{2}$\n",
        "\n",
        "Let $\\lambda_1 = \\frac{1 + \\sqrt(5)}{2}$ and $\\lambda_2 = \\frac{1 - \\sqrt(5)}{2}$.\n",
        "\n",
        "We can take arbitrarily $q = 1$, then $p = \\lambda_1 q = \\lambda_1$.\n",
        "\n",
        "So, $v_1 = \\begin{bmatrix} \\lambda_1 \\\\\\ 1 \\end{bmatrix}$.\n",
        "\n",
        "$v_2 = \\begin{bmatrix} \\lambda_2 \\\\\\ 1 \\end{bmatrix}$.\n",
        "\n",
        "$Q = \\begin{bmatrix} v_1 & v_2\\end{bmatrix} = \\begin{bmatrix} \\lambda_1 & \\lambda_2 \\\\\\ 1 & 1 \\end{bmatrix}$.\n",
        "\n",
        "Also,\n",
        "\n",
        "$det(Q) = \\lambda_1 - \\lambda_2 = \\frac{1 + \\sqrt(5)}{2} -  \\frac{1 - \\sqrt(5)}{2} = \\sqrt(5)$.\n",
        "\n",
        "$Q^{-1} = \\frac{1}{\\sqrt(5)} \\begin{bmatrix} 1 & -\\lambda_2 \\\\\\ -1 & \\lambda_1 \\end{bmatrix} = \\begin{bmatrix} \\frac{1}{\\sqrt(5)} & \\frac{\\sqrt(5)-1}{2\\sqrt(5)} \\\\\\ \\frac{-1}{\\sqrt(5)} & \\frac{1+\\sqrt(5)}{2\\sqrt(5)} \\end{bmatrix}$\n",
        "\n",
        "Therefore,\n",
        "\n",
        "\n",
        "$\\begin{bmatrix} 1 & 1 \\\\\\ 1 & 0 \\end{bmatrix} = \\begin{bmatrix} \\lambda_1 & \\lambda_2 \\\\\\ 1 & 1 \\end{bmatrix} * \\begin{bmatrix} \\lambda_1 & 0 \\\\\\ 0 & \\lambda_2 \\end{bmatrix} * \\begin{bmatrix} \\lambda_1 & 1 \\\\\\ \\lambda_2 & 1 \\end{bmatrix}$\n",
        "\n",
        "$\\begin{bmatrix} 1 & 1 \\\\\\ 1 & 0 \\end{bmatrix} = \\begin{bmatrix} \\frac{1 + \\sqrt(5)}{2} &  \\frac{1 - \\sqrt(5)}{2} \\\\\\ 1 & 1 \\end{bmatrix} * \\begin{bmatrix} \\frac{1 + \\sqrt(5)}{2} & 0 \\\\\\ 0 & \\frac{1 - \\sqrt(5)}{2} \\end{bmatrix} *  \\begin{bmatrix} \\frac{1}{\\sqrt(5)} & \\frac{\\sqrt(5)-1}{2\\sqrt(5)} \\\\\\ \\frac{-1}{\\sqrt(5)} & \\frac{1+\\sqrt(5)}{2\\sqrt(5)} \\end{bmatrix}$\n",
        "\n",
        "Hence $(n+1)^{th}$ and ${n}^{th}$ fibonacci number is given by this expression:\n",
        "\n",
        "\n",
        "$\\begin{bmatrix} F_{n+1} \\\\\\ F_{n} \\end{bmatrix} = {\\begin{bmatrix} 1 & 1 \\\\\\ 1 & 0 \\end{bmatrix}}^n \\begin{bmatrix} 1 \\\\\\ 0 \\end{bmatrix} = \\begin{bmatrix} \\frac{1 + \\sqrt(5)}{2} &  \\frac{1 - \\sqrt(5)}{2} \\\\\\ 1 & 1 \\end{bmatrix} * {\\begin{bmatrix} \\frac{1 + \\sqrt(5)}{2} & 0 \\\\\\ 0 & \\frac{1 - \\sqrt(5)}{2} \\end{bmatrix}}^n *  \\begin{bmatrix} \\frac{1}{\\sqrt(5)} & \\frac{\\sqrt(5)-1}{2\\sqrt(5)} \\\\\\ \\frac{-1}{\\sqrt(5)} & \\frac{1+\\sqrt(5)}{2\\sqrt(5)} \\end{bmatrix} * \\begin{bmatrix} 1 \\\\\\ 0 \\end{bmatrix}$\n",
        "\n"
      ]
    },
    {
      "cell_type": "markdown",
      "metadata": {
        "id": "wKjcGz-683M_",
        "colab_type": "text"
      },
      "source": [
        "The three matrices on the right can be expanded (I am using $\\lambda$'s for the sake of simplicity instead of actual values):\n",
        "\n",
        "$\\begin{bmatrix} \\lambda_1 & \\lambda_2 \\\\\\ 1 & 1 \\end{bmatrix} * \\begin{bmatrix} \\lambda_1^n & 0 \\\\\\ 0 & \\lambda_2^n \\end{bmatrix} * \\frac{1}{\\sqrt(5)} \\begin{bmatrix} 1 & -\\lambda_2 \\\\\\ -1 & \\lambda_1 \\end{bmatrix}$"
      ]
    },
    {
      "cell_type": "markdown",
      "metadata": {
        "id": "8FSSIUNR83NA",
        "colab_type": "text"
      },
      "source": [
        "Ignoring $\\frac{1}{\\sqrt(5)}$ for now,\n",
        "\n",
        "\n",
        "$\\begin{bmatrix} \\lambda_1 & \\lambda_2 \\\\\\ 1 & 1 \\end{bmatrix} * \\begin{bmatrix} \\lambda_1^n & -\\lambda_1^n \\lambda_2 \\\\\\ -\\lambda_2^n & \\lambda_1 \\lambda_2^n \\end{bmatrix}$"
      ]
    },
    {
      "cell_type": "markdown",
      "metadata": {
        "id": "FfNIHbyC83NA",
        "colab_type": "text"
      },
      "source": [
        "$\\begin{bmatrix} \\lambda_1^{n+1} - \\lambda_2^{n+1} & -\\lambda_1^{n+1}  \\lambda_2 + \\lambda_1 \\lambda_2^{n+1} \\\\\\ \\lambda_1^n -\\lambda_2^n & -\\lambda_1^n \\lambda_2 + \\lambda_1 \\lambda_2^n \\end{bmatrix}$"
      ]
    },
    {
      "cell_type": "markdown",
      "metadata": {
        "id": "67wCwvnN83NB",
        "colab_type": "text"
      },
      "source": [
        "\n",
        "$\\begin{bmatrix} \\lambda_1^{n+1} & -(\\lambda_1 \\lambda_2)\\lambda_1^{n}  \\\\\\ \\lambda_1^n & -(\\lambda_1 \\lambda_2) \\lambda_1^{n-1} \\end{bmatrix} + \\begin{bmatrix} -\\lambda_2^{n+1} & (\\lambda_1 \\lambda_2) \\lambda_2^{n} \\\\\\ -\\lambda_2^n & (\\lambda_1 \\lambda_2) \\lambda_2^{n-1} \\end{bmatrix}$"
      ]
    },
    {
      "cell_type": "markdown",
      "metadata": {
        "id": "I5mdumiT83NC",
        "colab_type": "text"
      },
      "source": [
        "$\\lambda_1^n \\begin{bmatrix} \\lambda_1 & -\\lambda_1 \\lambda_2 \\\\\\ 1 & -\\lambda_2 \\end{bmatrix} + \\lambda_2^n \\begin{bmatrix} -\\lambda_2 & \\lambda_1 \\lambda_2 \\\\\\ -1 & \\lambda_1 \\end{bmatrix}$"
      ]
    },
    {
      "cell_type": "markdown",
      "metadata": {
        "id": "Mewvb5Vw83NC",
        "colab_type": "text"
      },
      "source": [
        "This can also be written as sum of rank 1 matrices using dyads:\n",
        "\n",
        "$\\lambda_1^n \\begin{bmatrix} \\lambda_1 \\\\\\ 1 \\end{bmatrix} \\begin{bmatrix} 1 & -\\lambda_2 \\end{bmatrix} + \\lambda_2^n \\begin{bmatrix} \\lambda_2 \\\\\\ 1 \\end{bmatrix} \\begin{bmatrix} -1 & \\lambda_1 \\end{bmatrix}$"
      ]
    },
    {
      "cell_type": "markdown",
      "metadata": {
        "id": "aoCXQkot83ND",
        "colab_type": "text"
      },
      "source": [
        "As n goes to infinity, since $\\lambda_2 \\lt 1$, the second term vanishes. In that case, above becomes, just\n",
        "\n",
        "$\\lambda_1^n \\begin{bmatrix} \\lambda_1 & -\\lambda_1 \\lambda_2 \\\\\\ 1 & -\\lambda_2 \\end{bmatrix}$\n",
        "\n",
        "Now, overall expression becomes,\n",
        "\n",
        "$\\begin{bmatrix} F_{n+1} \\\\\\ F_{n} \\end{bmatrix} = \\frac{1}{\\sqrt(5)}\\lambda_1^n \\begin{bmatrix} \\lambda_1 & -\\lambda_1 \\lambda_2 \\\\\\ 1 & -\\lambda_2 \\end{bmatrix} *  \\begin{bmatrix} 1 \\\\\\ 0 \\end{bmatrix} = \\frac{1}{\\sqrt(5)}\\lambda_1^n \\begin{bmatrix} \\lambda_1 \\\\\\ 1 \\end{bmatrix}$\n",
        "\n",
        "And the ratio of successive terms = ${\\lambda_1}$ = golden ratio.\n",
        "\n",
        "And formula for approximate n-th term:\n",
        "\n",
        "$F_{n} = \\frac{1}{\\sqrt(5)}\\lambda_1^n = \\frac{(1+\\sqrt 5)^n}{2^n\\sqrt 5}$.\n",
        "\n",
        "\n",
        "Instead of starting with 0 and 1, if we start with arbitrary numbers a, b and follow the same principle (a, b, a+b, a+2b, 2a+3b ...):\n",
        "\n",
        "$\\begin{bmatrix} F_{n+1} \\\\\\ F_{n} \\end{bmatrix} = \\frac{1}{\\sqrt(5)}\\lambda_1^n \\begin{bmatrix} \\lambda_1 & -\\lambda_1 \\lambda_2 \\\\\\ 1 & -\\lambda_2 \\end{bmatrix} *  \\begin{bmatrix} b \\\\\\ a \\end{bmatrix} = \\frac{1}{\\sqrt(5)}\\lambda_1^n \\begin{bmatrix} \\lambda_1(b-\\lambda_2 a) \\\\\\ (b-\\lambda_2 a) \\end{bmatrix}$\n",
        "\n",
        "So, the ratio of successive terms is still the golden ratio!\n",
        "\n",
        "It is so golden!\n"
      ]
    },
    {
      "cell_type": "markdown",
      "metadata": {
        "id": "icTiwHGj83NE",
        "colab_type": "text"
      },
      "source": [
        "\n",
        "A more direct way of doing the same is by writing $\\begin{bmatrix} 1 \\\\\\ 0 \\end{bmatrix}$ as linear combination of eigenvectors, $v_1$ and $v_2$:\n",
        "\n",
        "$\\begin{bmatrix} 1 \\\\\\ 0 \\end{bmatrix} = av_1+bv_2$.\n",
        "\n",
        "Then,\n",
        "\n",
        "$\\begin{aligned}\n",
        "A^n \\begin{bmatrix} 1 \\\\\\ 0 \\end{bmatrix}\n",
        "&=   a A^n v_1 + b A^n v_2 \\\\\\\n",
        "&=   a \\lambda_1^n v_1 + b \\lambda_2^n v_2 \\\\\\\n",
        "&\\approx   a \\lambda_1^n v_1\\end{aligned}$\n",
        "\n",
        "(as the second term goes to zero in the long run)\n",
        "\n",
        "Now to solve for a, and b:\n",
        "\n",
        "$a \\begin{bmatrix} \\lambda_1 \\\\\\ 1 \\end{bmatrix} + b \\begin{bmatrix} \\lambda_2 \\\\\\ 1 \\end{bmatrix}$\n",
        "\n",
        "$a \\lambda_1 + b \\lambda_2 = 0$\n",
        "\n",
        "and\n",
        "\n",
        "$ a + b = 0 $\n",
        "\n",
        "$a = -b$\n",
        "\n",
        "$a = \\frac{1}{\\lambda_1 - \\lambda_2} = \\frac{1}{\\sqrt 5}$\n",
        "\n",
        "$A^n \\begin{bmatrix} 1 \\\\\\ 0 \\end{bmatrix} = \\frac{1}{\\sqrt 5} (\\frac{1+\\sqrt 5}{2})^n \\begin{bmatrix} \\lambda_1 \\\\\\ 1 \\end{bmatrix} = \\frac{1}{\\sqrt 5}  \\begin{bmatrix} \\lambda_1^{n+1} \\\\\\ \\lambda_1^n \\end{bmatrix}$\n",
        "\n",
        "Same as above.\n"
      ]
    },
    {
      "cell_type": "code",
      "metadata": {
        "id": "LIGqW5Aa83NE",
        "colab_type": "code",
        "colab": {},
        "outputId": "6f697e70-4bb6-4c04-dc9e-25e3178f30a8"
      },
      "source": [
        "import numpy as np\n",
        "from numpy import linalg as LA\n",
        "\n",
        "a = np.array([1, 1, 1, 0]).reshape((2, 2))\n",
        "print(a)"
      ],
      "execution_count": 0,
      "outputs": [
        {
          "output_type": "stream",
          "text": [
            "[[1 1]\n",
            " [1 0]]\n"
          ],
          "name": "stdout"
        }
      ]
    },
    {
      "cell_type": "code",
      "metadata": {
        "id": "LIQ7iVXh83NJ",
        "colab_type": "code",
        "colab": {},
        "outputId": "c0c81845-b9e0-42d5-ed60-efea1dcaa7b9"
      },
      "source": [
        "# A = Q D Q^T\n",
        "\n",
        "def next_fib_naive(m, f):\n",
        "    return m.dot(f)\n",
        "\n",
        "def next_fib_diag(q, qinv, d, f):\n",
        "    ef = qinv.dot(f)\n",
        "    return q.dot(d.dot(ef))\n",
        "    \n",
        "s, v = LA.eig(a)\n",
        "\n",
        "D = np.diag(s)\n",
        "Qinv = v.T # also = LA.inv(v)\n",
        "Q = v\n",
        "print(Q)\n",
        "\n",
        "print(D)\n",
        "f0  = np.array([1, 0]).reshape((2, 1))\n",
        "\n",
        "ef0 = Qinv.dot(f0)\n",
        "\n",
        "print(\"-----\")\n",
        "print(Q.dot(D.dot(ef0)))\n",
        "\n",
        "print(\"-----\")\n",
        "\n",
        "fi = f0\n",
        "for i in range(10):\n",
        "    fi = next_fib_naive(a, fi)\n",
        "print(fi)\n",
        "\n",
        "fi = f0\n",
        "for i in range(10):\n",
        "    fi = next_fib_diag(Q, Qinv, D, fi)\n",
        "    \n",
        "print(fi)"
      ],
      "execution_count": 0,
      "outputs": [
        {
          "output_type": "stream",
          "text": [
            "[[ 0.85065081 -0.52573111]\n",
            " [ 0.52573111  0.85065081]]\n",
            "[[ 1.61803399  0.        ]\n",
            " [ 0.         -0.61803399]]\n",
            "-----\n",
            "[[1.]\n",
            " [1.]]\n",
            "-----\n",
            "[[89]\n",
            " [55]]\n",
            "[[89.]\n",
            " [55.]]\n"
          ],
          "name": "stdout"
        }
      ]
    },
    {
      "cell_type": "code",
      "metadata": {
        "id": "KwgPa4hZ83NM",
        "colab_type": "code",
        "colab": {}
      },
      "source": [
        ""
      ],
      "execution_count": 0,
      "outputs": []
    }
  ]
}